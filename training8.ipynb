{
 "cells": [
  {
   "cell_type": "code",
   "execution_count": 1,
   "id": "f1e95ded-0963-40a7-b041-cc41dc971658",
   "metadata": {},
   "outputs": [],
   "source": [
    "import sys\n",
    "sys.path.append('C:/Users/mdmur/OneDrive/Pictures/MohasProject/venv/Lib/site-packages')"
   ]
  },
  {
   "cell_type": "code",
   "execution_count": 2,
   "id": "9f5d7059-3527-43a0-80cc-96b27c4cb650",
   "metadata": {},
   "outputs": [],
   "source": [
    "import pandas as pd\n",
    "from sklearn.model_selection import train_test_split\n",
    "from sklearn.linear_model import LinearRegression\n",
    "from sklearn.metrics import mean_squared_error, r2_score\n",
    "import numpy as np\n",
    "import matplotlib.pyplot as plt\n",
    "from sklearn.preprocessing import StandardScaler\n",
    "from sklearn.ensemble import RandomForestRegressor\n",
    "\n",
    "%matplotlib inline"
   ]
  },
  {
   "cell_type": "code",
   "execution_count": 3,
   "id": "472356e0-e8f8-4bab-b605-028fdda061d0",
   "metadata": {},
   "outputs": [],
   "source": [
    "file_path = 'output/all_data.csv'\n",
    "df = pd.read_csv(file_path)"
   ]
  },
  {
   "cell_type": "code",
   "execution_count": 4,
   "id": "77ee8521-c383-4117-9a17-bc9b2cd6f396",
   "metadata": {},
   "outputs": [
    {
     "data": {
      "text/html": [
       "<div>\n",
       "<style scoped>\n",
       "    .dataframe tbody tr th:only-of-type {\n",
       "        vertical-align: middle;\n",
       "    }\n",
       "\n",
       "    .dataframe tbody tr th {\n",
       "        vertical-align: top;\n",
       "    }\n",
       "\n",
       "    .dataframe thead th {\n",
       "        text-align: right;\n",
       "    }\n",
       "</style>\n",
       "<table border=\"1\" class=\"dataframe\">\n",
       "  <thead>\n",
       "    <tr style=\"text-align: right;\">\n",
       "      <th></th>\n",
       "      <th>order_id</th>\n",
       "      <th>product</th>\n",
       "      <th>quantity_ordered</th>\n",
       "      <th>price_each</th>\n",
       "      <th>order_date</th>\n",
       "      <th>month</th>\n",
       "      <th>total_sales</th>\n",
       "      <th>total_quantity_sold_all_months</th>\n",
       "    </tr>\n",
       "  </thead>\n",
       "  <tbody>\n",
       "    <tr>\n",
       "      <th>38177</th>\n",
       "      <td>303956</td>\n",
       "      <td>AAA Batteries (4-pack)</td>\n",
       "      <td>1</td>\n",
       "      <td>2.99</td>\n",
       "      <td>2019-12-10 10:37:00</td>\n",
       "      <td>December</td>\n",
       "      <td>2.99</td>\n",
       "      <td>30487</td>\n",
       "    </tr>\n",
       "    <tr>\n",
       "      <th>114172</th>\n",
       "      <td>173023</td>\n",
       "      <td>Lightning Charging Cable</td>\n",
       "      <td>2</td>\n",
       "      <td>14.95</td>\n",
       "      <td>2019-03-09 09:49:00</td>\n",
       "      <td>March</td>\n",
       "      <td>29.90</td>\n",
       "      <td>22841</td>\n",
       "    </tr>\n",
       "    <tr>\n",
       "      <th>59302</th>\n",
       "      <td>155312</td>\n",
       "      <td>AAA Batteries (4-pack)</td>\n",
       "      <td>1</td>\n",
       "      <td>2.99</td>\n",
       "      <td>2019-02-23 19:48:00</td>\n",
       "      <td>February</td>\n",
       "      <td>2.99</td>\n",
       "      <td>30487</td>\n",
       "    </tr>\n",
       "    <tr>\n",
       "      <th>79506</th>\n",
       "      <td>226747</td>\n",
       "      <td>Lightning Charging Cable</td>\n",
       "      <td>1</td>\n",
       "      <td>14.95</td>\n",
       "      <td>2019-07-01 17:34:00</td>\n",
       "      <td>July</td>\n",
       "      <td>14.95</td>\n",
       "      <td>22841</td>\n",
       "    </tr>\n",
       "    <tr>\n",
       "      <th>82744</th>\n",
       "      <td>229920</td>\n",
       "      <td>Bose SoundSport Headphones</td>\n",
       "      <td>1</td>\n",
       "      <td>99.99</td>\n",
       "      <td>2019-07-28 11:20:00</td>\n",
       "      <td>July</td>\n",
       "      <td>99.99</td>\n",
       "      <td>13236</td>\n",
       "    </tr>\n",
       "  </tbody>\n",
       "</table>\n",
       "</div>"
      ],
      "text/plain": [
       "        order_id                     product  quantity_ordered  price_each  \\\n",
       "38177     303956      AAA Batteries (4-pack)                 1        2.99   \n",
       "114172    173023    Lightning Charging Cable                 2       14.95   \n",
       "59302     155312      AAA Batteries (4-pack)                 1        2.99   \n",
       "79506     226747    Lightning Charging Cable                 1       14.95   \n",
       "82744     229920  Bose SoundSport Headphones                 1       99.99   \n",
       "\n",
       "                 order_date     month  total_sales  \\\n",
       "38177   2019-12-10 10:37:00  December         2.99   \n",
       "114172  2019-03-09 09:49:00     March        29.90   \n",
       "59302   2019-02-23 19:48:00  February         2.99   \n",
       "79506   2019-07-01 17:34:00      July        14.95   \n",
       "82744   2019-07-28 11:20:00      July        99.99   \n",
       "\n",
       "        total_quantity_sold_all_months  \n",
       "38177                            30487  \n",
       "114172                           22841  \n",
       "59302                            30487  \n",
       "79506                            22841  \n",
       "82744                            13236  "
      ]
     },
     "execution_count": 4,
     "metadata": {},
     "output_type": "execute_result"
    }
   ],
   "source": [
    "df.sample(5)"
   ]
  },
  {
   "cell_type": "code",
   "execution_count": 5,
   "id": "37fe0919-d182-4ad0-8891-8217ffc630f4",
   "metadata": {},
   "outputs": [],
   "source": [
    "total_quantity_sold = df.groupby(['product', 'month'])['quantity_ordered'].sum().reset_index()\n",
    "total_quantity_sold.rename(columns={'quantity_ordered': 'quantity_sold_that_month'}, inplace=True)"
   ]
  },
  {
   "cell_type": "code",
   "execution_count": 6,
   "id": "69e7dd77-a0f1-49bf-a263-0f4b06c14956",
   "metadata": {},
   "outputs": [],
   "source": [
    "df = pd.merge(df, total_quantity_sold, on=['product', 'month'], how='left')"
   ]
  },
  {
   "cell_type": "code",
   "execution_count": 7,
   "id": "5a0f4b14-cbcc-4dab-8676-f9093e428e46",
   "metadata": {},
   "outputs": [
    {
     "data": {
      "text/html": [
       "<div>\n",
       "<style scoped>\n",
       "    .dataframe tbody tr th:only-of-type {\n",
       "        vertical-align: middle;\n",
       "    }\n",
       "\n",
       "    .dataframe tbody tr th {\n",
       "        vertical-align: top;\n",
       "    }\n",
       "\n",
       "    .dataframe thead th {\n",
       "        text-align: right;\n",
       "    }\n",
       "</style>\n",
       "<table border=\"1\" class=\"dataframe\">\n",
       "  <thead>\n",
       "    <tr style=\"text-align: right;\">\n",
       "      <th></th>\n",
       "      <th>order_id</th>\n",
       "      <th>product</th>\n",
       "      <th>quantity_ordered</th>\n",
       "      <th>price_each</th>\n",
       "      <th>order_date</th>\n",
       "      <th>month</th>\n",
       "      <th>total_sales</th>\n",
       "      <th>total_quantity_sold_all_months</th>\n",
       "      <th>quantity_sold_that_month</th>\n",
       "    </tr>\n",
       "  </thead>\n",
       "  <tbody>\n",
       "    <tr>\n",
       "      <th>72308</th>\n",
       "      <td>147268</td>\n",
       "      <td>Wired Headphones</td>\n",
       "      <td>1</td>\n",
       "      <td>11.99</td>\n",
       "      <td>2019-01-01 03:07:00</td>\n",
       "      <td>January</td>\n",
       "      <td>11.99</td>\n",
       "      <td>20201</td>\n",
       "      <td>1057</td>\n",
       "    </tr>\n",
       "    <tr>\n",
       "      <th>73104</th>\n",
       "      <td>148041</td>\n",
       "      <td>USB-C Charging Cable</td>\n",
       "      <td>1</td>\n",
       "      <td>11.95</td>\n",
       "      <td>2019-01-01 03:40:00</td>\n",
       "      <td>January</td>\n",
       "      <td>11.95</td>\n",
       "      <td>23555</td>\n",
       "      <td>1265</td>\n",
       "    </tr>\n",
       "    <tr>\n",
       "      <th>74423</th>\n",
       "      <td>149343</td>\n",
       "      <td>Apple Airpods Headphones</td>\n",
       "      <td>1</td>\n",
       "      <td>150.00</td>\n",
       "      <td>2019-01-01 04:56:00</td>\n",
       "      <td>January</td>\n",
       "      <td>150.00</td>\n",
       "      <td>15383</td>\n",
       "      <td>798</td>\n",
       "    </tr>\n",
       "    <tr>\n",
       "      <th>75060</th>\n",
       "      <td>149964</td>\n",
       "      <td>AAA Batteries (4-pack)</td>\n",
       "      <td>1</td>\n",
       "      <td>2.99</td>\n",
       "      <td>2019-01-01 05:53:00</td>\n",
       "      <td>January</td>\n",
       "      <td>2.99</td>\n",
       "      <td>30487</td>\n",
       "      <td>1562</td>\n",
       "    </tr>\n",
       "    <tr>\n",
       "      <th>74430</th>\n",
       "      <td>149350</td>\n",
       "      <td>USB-C Charging Cable</td>\n",
       "      <td>2</td>\n",
       "      <td>11.95</td>\n",
       "      <td>2019-01-01 06:03:00</td>\n",
       "      <td>January</td>\n",
       "      <td>23.90</td>\n",
       "      <td>23555</td>\n",
       "      <td>1265</td>\n",
       "    </tr>\n",
       "  </tbody>\n",
       "</table>\n",
       "</div>"
      ],
      "text/plain": [
       "       order_id                   product  quantity_ordered  price_each  \\\n",
       "72308    147268          Wired Headphones                 1       11.99   \n",
       "73104    148041      USB-C Charging Cable                 1       11.95   \n",
       "74423    149343  Apple Airpods Headphones                 1      150.00   \n",
       "75060    149964    AAA Batteries (4-pack)                 1        2.99   \n",
       "74430    149350      USB-C Charging Cable                 2       11.95   \n",
       "\n",
       "                order_date    month  total_sales  \\\n",
       "72308  2019-01-01 03:07:00  January        11.99   \n",
       "73104  2019-01-01 03:40:00  January        11.95   \n",
       "74423  2019-01-01 04:56:00  January       150.00   \n",
       "75060  2019-01-01 05:53:00  January         2.99   \n",
       "74430  2019-01-01 06:03:00  January        23.90   \n",
       "\n",
       "       total_quantity_sold_all_months  quantity_sold_that_month  \n",
       "72308                           20201                      1057  \n",
       "73104                           23555                      1265  \n",
       "74423                           15383                       798  \n",
       "75060                           30487                      1562  \n",
       "74430                           23555                      1265  "
      ]
     },
     "execution_count": 7,
     "metadata": {},
     "output_type": "execute_result"
    }
   ],
   "source": [
    "df = df.sort_values(by='order_date')\n",
    "df.head()"
   ]
  },
  {
   "cell_type": "code",
   "execution_count": 8,
   "id": "8ad48887-f259-4cb6-97a7-7a055ade4db1",
   "metadata": {},
   "outputs": [],
   "source": [
    "df['order_date'] = pd.to_datetime(df['order_date'])"
   ]
  },
  {
   "cell_type": "code",
   "execution_count": 9,
   "id": "6bcb10c7-967c-452a-b5f3-b64c1cbb114c",
   "metadata": {},
   "outputs": [],
   "source": [
    "df = df.sort_values(by=['product', 'order_date'])"
   ]
  },
  {
   "cell_type": "code",
   "execution_count": 10,
   "id": "6e59f5f0-821d-495d-8db3-032cb8f0d863",
   "metadata": {},
   "outputs": [],
   "source": [
    "month_order = {'January': 1, 'February': 2, 'March': 3, 'April': 4, 'May': 5, 'June': 6,\n",
    "               'July': 7, 'August': 8, 'September': 9, 'October': 10, 'November': 11, 'December': 12}\n",
    "df['month_num'] = df['month'].map(month_order)\n",
    "\n",
    "previous_month_quantity = {}\n",
    "next_month_quantity = {}\n",
    "\n",
    "def get_previous_month_quantity(row):\n",
    "    product = row['product']\n",
    "    previous_month = row['month_num'] - 1 if row['month_num'] > 1 else 12\n",
    "    return previous_month_quantity.get((product, previous_month), 0)\n",
    "\n",
    "def get_next_month_quantity(row):\n",
    "    product = row['product']\n",
    "    next_month = row['month_num'] + 1 if row['month_num'] < 12 else 1\n",
    "    return next_month_quantity.get((product, next_month), 0)\n",
    "\n",
    "for index, row in df.iterrows():\n",
    "    product = row['product']\n",
    "    month = row['month_num']\n",
    "    quantity_sold = row['quantity_sold_that_month']\n",
    "    \n",
    "    previous_month = month - 1 \n",
    "    previous_month_quantity[(product, month)] = quantity_sold\n",
    "    \n",
    "    next_month = month + 1  \n",
    "    next_month_quantity[(product, month)] = quantity_sold\n",
    "\n",
    "df['quantity_sold_last_month'] = df.apply(get_previous_month_quantity, axis=1)\n",
    "df['quantity_sold_next_month'] = df.apply(get_next_month_quantity, axis=1)\n"
   ]
  },
  {
   "cell_type": "code",
   "execution_count": 11,
   "id": "cac77b2b-aea1-426b-bc76-a14aaace958b",
   "metadata": {},
   "outputs": [
    {
     "name": "stdout",
     "output_type": "stream",
     "text": [
      "<class 'pandas.core.frame.DataFrame'>\n",
      "Index: 182735 entries, 75136 to 31921\n",
      "Data columns (total 12 columns):\n",
      " #   Column                          Non-Null Count   Dtype         \n",
      "---  ------                          --------------   -----         \n",
      " 0   order_id                        182735 non-null  int64         \n",
      " 1   product                         182735 non-null  object        \n",
      " 2   quantity_ordered                182735 non-null  int64         \n",
      " 3   price_each                      182735 non-null  float64       \n",
      " 4   order_date                      182735 non-null  datetime64[ns]\n",
      " 5   month                           182735 non-null  object        \n",
      " 6   total_sales                     182735 non-null  float64       \n",
      " 7   total_quantity_sold_all_months  182735 non-null  int64         \n",
      " 8   quantity_sold_that_month        182735 non-null  int64         \n",
      " 9   month_num                       182735 non-null  int64         \n",
      " 10  quantity_sold_last_month        182735 non-null  int64         \n",
      " 11  quantity_sold_next_month        182735 non-null  int64         \n",
      "dtypes: datetime64[ns](1), float64(2), int64(7), object(2)\n",
      "memory usage: 18.1+ MB\n"
     ]
    }
   ],
   "source": [
    "df.info()"
   ]
  },
  {
   "cell_type": "code",
   "execution_count": 12,
   "id": "7b1e886d-1d57-4a91-b160-4e9796692f31",
   "metadata": {},
   "outputs": [
    {
     "data": {
      "text/plain": [
       "order_id  product  quantity_ordered  price_each  order_date  month  total_sales  total_quantity_sold_all_months  quantity_sold_that_month  month_num  quantity_sold_last_month  quantity_sold_next_month\n",
       "False     False    False             False       False       False  False        False                           False                     False      False                     False                       182735\n",
       "Name: count, dtype: int64"
      ]
     },
     "execution_count": 12,
     "metadata": {},
     "output_type": "execute_result"
    }
   ],
   "source": [
    "df.isna().value_counts()"
   ]
  },
  {
   "cell_type": "code",
   "execution_count": 14,
   "id": "66827482-719a-44cd-89a4-d95ddedc83d3",
   "metadata": {},
   "outputs": [],
   "source": [
    "df = df.dropna()"
   ]
  },
  {
   "cell_type": "code",
   "execution_count": 15,
   "id": "63d7c6ff-0ae1-469d-b6a4-f41f62b666f9",
   "metadata": {},
   "outputs": [],
   "source": [
    "df = df.drop(['month_num'], axis=1)"
   ]
  },
  {
   "cell_type": "code",
   "execution_count": 16,
   "id": "41642b7e-6c63-4546-8f07-712e42bdf0c0",
   "metadata": {},
   "outputs": [],
   "source": [
    "from sklearn.preprocessing import LabelEncoder\n",
    "\n",
    "label_encoder = LabelEncoder()\n",
    "df['product_encoded'] = label_encoder.fit_transform(df['product'])"
   ]
  },
  {
   "cell_type": "code",
   "execution_count": 17,
   "id": "122761ef-0040-4932-b432-7fdeb674a9a7",
   "metadata": {},
   "outputs": [],
   "source": [
    "features = ['product_encoded', 'quantity_sold_last_month', 'quantity_sold_that_month']\n",
    "target = 'quantity_sold_next_month'"
   ]
  },
  {
   "cell_type": "code",
   "execution_count": 18,
   "id": "f9b5b7a6-1775-4591-9d29-dbadec99b99e",
   "metadata": {},
   "outputs": [],
   "source": [
    "X_train, X_test, y_train, y_test = train_test_split(df[features], df[target], test_size=0.2, random_state=42)"
   ]
  },
  {
   "cell_type": "code",
   "execution_count": 19,
   "id": "9074a68e-116f-468a-ac66-2f9150911ad5",
   "metadata": {},
   "outputs": [],
   "source": [
    "model = RandomForestRegressor(n_estimators=100, random_state=42)"
   ]
  },
  {
   "cell_type": "code",
   "execution_count": 20,
   "id": "2541956a-a8b4-4930-b908-7f13ddf4ac8d",
   "metadata": {},
   "outputs": [
    {
     "data": {
      "text/html": [
       "<style>#sk-container-id-1 {color: black;}#sk-container-id-1 pre{padding: 0;}#sk-container-id-1 div.sk-toggleable {background-color: white;}#sk-container-id-1 label.sk-toggleable__label {cursor: pointer;display: block;width: 100%;margin-bottom: 0;padding: 0.3em;box-sizing: border-box;text-align: center;}#sk-container-id-1 label.sk-toggleable__label-arrow:before {content: \"▸\";float: left;margin-right: 0.25em;color: #696969;}#sk-container-id-1 label.sk-toggleable__label-arrow:hover:before {color: black;}#sk-container-id-1 div.sk-estimator:hover label.sk-toggleable__label-arrow:before {color: black;}#sk-container-id-1 div.sk-toggleable__content {max-height: 0;max-width: 0;overflow: hidden;text-align: left;background-color: #f0f8ff;}#sk-container-id-1 div.sk-toggleable__content pre {margin: 0.2em;color: black;border-radius: 0.25em;background-color: #f0f8ff;}#sk-container-id-1 input.sk-toggleable__control:checked~div.sk-toggleable__content {max-height: 200px;max-width: 100%;overflow: auto;}#sk-container-id-1 input.sk-toggleable__control:checked~label.sk-toggleable__label-arrow:before {content: \"▾\";}#sk-container-id-1 div.sk-estimator input.sk-toggleable__control:checked~label.sk-toggleable__label {background-color: #d4ebff;}#sk-container-id-1 div.sk-label input.sk-toggleable__control:checked~label.sk-toggleable__label {background-color: #d4ebff;}#sk-container-id-1 input.sk-hidden--visually {border: 0;clip: rect(1px 1px 1px 1px);clip: rect(1px, 1px, 1px, 1px);height: 1px;margin: -1px;overflow: hidden;padding: 0;position: absolute;width: 1px;}#sk-container-id-1 div.sk-estimator {font-family: monospace;background-color: #f0f8ff;border: 1px dotted black;border-radius: 0.25em;box-sizing: border-box;margin-bottom: 0.5em;}#sk-container-id-1 div.sk-estimator:hover {background-color: #d4ebff;}#sk-container-id-1 div.sk-parallel-item::after {content: \"\";width: 100%;border-bottom: 1px solid gray;flex-grow: 1;}#sk-container-id-1 div.sk-label:hover label.sk-toggleable__label {background-color: #d4ebff;}#sk-container-id-1 div.sk-serial::before {content: \"\";position: absolute;border-left: 1px solid gray;box-sizing: border-box;top: 0;bottom: 0;left: 50%;z-index: 0;}#sk-container-id-1 div.sk-serial {display: flex;flex-direction: column;align-items: center;background-color: white;padding-right: 0.2em;padding-left: 0.2em;position: relative;}#sk-container-id-1 div.sk-item {position: relative;z-index: 1;}#sk-container-id-1 div.sk-parallel {display: flex;align-items: stretch;justify-content: center;background-color: white;position: relative;}#sk-container-id-1 div.sk-item::before, #sk-container-id-1 div.sk-parallel-item::before {content: \"\";position: absolute;border-left: 1px solid gray;box-sizing: border-box;top: 0;bottom: 0;left: 50%;z-index: -1;}#sk-container-id-1 div.sk-parallel-item {display: flex;flex-direction: column;z-index: 1;position: relative;background-color: white;}#sk-container-id-1 div.sk-parallel-item:first-child::after {align-self: flex-end;width: 50%;}#sk-container-id-1 div.sk-parallel-item:last-child::after {align-self: flex-start;width: 50%;}#sk-container-id-1 div.sk-parallel-item:only-child::after {width: 0;}#sk-container-id-1 div.sk-dashed-wrapped {border: 1px dashed gray;margin: 0 0.4em 0.5em 0.4em;box-sizing: border-box;padding-bottom: 0.4em;background-color: white;}#sk-container-id-1 div.sk-label label {font-family: monospace;font-weight: bold;display: inline-block;line-height: 1.2em;}#sk-container-id-1 div.sk-label-container {text-align: center;}#sk-container-id-1 div.sk-container {/* jupyter's `normalize.less` sets `[hidden] { display: none; }` but bootstrap.min.css set `[hidden] { display: none !important; }` so we also need the `!important` here to be able to override the default hidden behavior on the sphinx rendered scikit-learn.org. See: https://github.com/scikit-learn/scikit-learn/issues/21755 */display: inline-block !important;position: relative;}#sk-container-id-1 div.sk-text-repr-fallback {display: none;}</style><div id=\"sk-container-id-1\" class=\"sk-top-container\"><div class=\"sk-text-repr-fallback\"><pre>RandomForestRegressor(random_state=42)</pre><b>In a Jupyter environment, please rerun this cell to show the HTML representation or trust the notebook. <br />On GitHub, the HTML representation is unable to render, please try loading this page with nbviewer.org.</b></div><div class=\"sk-container\" hidden><div class=\"sk-item\"><div class=\"sk-estimator sk-toggleable\"><input class=\"sk-toggleable__control sk-hidden--visually\" id=\"sk-estimator-id-1\" type=\"checkbox\" checked><label for=\"sk-estimator-id-1\" class=\"sk-toggleable__label sk-toggleable__label-arrow\">RandomForestRegressor</label><div class=\"sk-toggleable__content\"><pre>RandomForestRegressor(random_state=42)</pre></div></div></div></div></div>"
      ],
      "text/plain": [
       "RandomForestRegressor(random_state=42)"
      ]
     },
     "execution_count": 20,
     "metadata": {},
     "output_type": "execute_result"
    }
   ],
   "source": [
    "model.fit(X_train, y_train)"
   ]
  },
  {
   "cell_type": "code",
   "execution_count": 22,
   "id": "f4cef917-3480-40db-ba06-899343ca2f85",
   "metadata": {},
   "outputs": [
    {
     "data": {
      "text/plain": [
       "['simprandom_r_mlV001.joblib']"
      ]
     },
     "execution_count": 22,
     "metadata": {},
     "output_type": "execute_result"
    }
   ],
   "source": [
    "import joblib\n",
    "\n",
    "joblib.dump(model, 'simprandom_r_mlV001.joblib')"
   ]
  },
  {
   "cell_type": "code",
   "execution_count": 32,
   "id": "b1195008-bd5c-419d-b7f3-087fed2122ed",
   "metadata": {},
   "outputs": [
    {
     "name": "stdin",
     "output_type": "stream",
     "text": [
      "Enter the product:  AAA Batteries (4-pack)\n",
      "Enter the quantity sold last month:  2895\n",
      "Enter the quantity sold this month:  2875\n"
     ]
    }
   ],
   "source": [
    "user_product = input(\"Enter the product: \")\n",
    "user_quantity_sold_last_month = int(input(\"Enter the quantity sold last month: \"))\n",
    "quantity_sold_this_month = int(input(\"Enter the quantity sold this month: \"))\n",
    "\n",
    "user_product_encoded = label_encoder.transform([user_product])[0]"
   ]
  },
  {
   "cell_type": "code",
   "execution_count": 33,
   "id": "117ab321-d105-419c-ab6d-701d6bcea13e",
   "metadata": {},
   "outputs": [
    {
     "name": "stdout",
     "output_type": "stream",
     "text": [
      "Predicted quantity sold next month: 2114.0\n"
     ]
    }
   ],
   "source": [
    "user_input = pd.DataFrame({'product_encoded': [user_product_encoded],\n",
    "                            'quantity_sold_last_month': [user_quantity_sold_last_month],\n",
    "                            'quantity_sold_that_month': [quantity_sold_this_month]})\n",
    "\n",
    "predicted_quantity_sold_next_month = model.predict(user_input)\n",
    "\n",
    "print(f\"Predicted quantity sold next month: {predicted_quantity_sold_next_month[0]}\")"
   ]
  },
  {
   "cell_type": "code",
   "execution_count": 27,
   "id": "46534590-c684-4779-90dd-dba94076e71d",
   "metadata": {},
   "outputs": [],
   "source": [
    "df = df.drop(['quantity_sold_next_month'], axis=1)"
   ]
  },
  {
   "cell_type": "code",
   "execution_count": 28,
   "id": "60961733-a003-4ddb-ab3e-4df6d8ba7030",
   "metadata": {},
   "outputs": [],
   "source": [
    "df.to_csv('./output/visuialising1.csv', index=False)"
   ]
  },
  {
   "cell_type": "code",
   "execution_count": 29,
   "id": "7bd89054-59db-418d-a99f-909bcf24f074",
   "metadata": {
    "scrolled": true
   },
   "outputs": [
    {
     "name": "stdout",
     "output_type": "stream",
     "text": [
      "<class 'pandas.core.frame.DataFrame'>\n",
      "Index: 182735 entries, 75136 to 31921\n",
      "Data columns (total 11 columns):\n",
      " #   Column                          Non-Null Count   Dtype         \n",
      "---  ------                          --------------   -----         \n",
      " 0   order_id                        182735 non-null  int64         \n",
      " 1   product                         182735 non-null  object        \n",
      " 2   quantity_ordered                182735 non-null  int64         \n",
      " 3   price_each                      182735 non-null  float64       \n",
      " 4   order_date                      182735 non-null  datetime64[ns]\n",
      " 5   month                           182735 non-null  object        \n",
      " 6   total_sales                     182735 non-null  float64       \n",
      " 7   total_quantity_sold_all_months  182735 non-null  int64         \n",
      " 8   quantity_sold_that_month        182735 non-null  int64         \n",
      " 9   quantity_sold_last_month        182735 non-null  int64         \n",
      " 10  product_encoded                 182735 non-null  int32         \n",
      "dtypes: datetime64[ns](1), float64(2), int32(1), int64(5), object(2)\n",
      "memory usage: 16.0+ MB\n"
     ]
    }
   ],
   "source": [
    "df.info()"
   ]
  },
  {
   "cell_type": "code",
   "execution_count": null,
   "id": "1d0ee44b-53dc-468b-a6c9-24496029a057",
   "metadata": {},
   "outputs": [],
   "source": []
  }
 ],
 "metadata": {
  "kernelspec": {
   "display_name": "Python 3 (ipykernel)",
   "language": "python",
   "name": "python3"
  },
  "language_info": {
   "codemirror_mode": {
    "name": "ipython",
    "version": 3
   },
   "file_extension": ".py",
   "mimetype": "text/x-python",
   "name": "python",
   "nbconvert_exporter": "python",
   "pygments_lexer": "ipython3",
   "version": "3.11.5"
  }
 },
 "nbformat": 4,
 "nbformat_minor": 5
}
