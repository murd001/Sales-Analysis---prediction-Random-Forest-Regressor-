{
 "cells": [
  {
   "cell_type": "code",
   "execution_count": 13,
   "id": "a8581893-18d8-443e-ad40-c63d9e78691d",
   "metadata": {},
   "outputs": [],
   "source": [
    "import sys\n",
    "sys.path.append('C:/Users/mdmur/OneDrive/Pictures/MohasProject/venv/Lib/site-packages')\n",
    "\n",
    "%matplotlib inline\n",
    "\n",
    "import numpy as np\n",
    "import pandas as pd\n",
    "import matplotlib.pyplot as plt\n"
   ]
  },
  {
   "cell_type": "code",
   "execution_count": 16,
   "id": "8b180d00-9c9e-4765-a09e-6be772baf309",
   "metadata": {},
   "outputs": [],
   "source": [
    "import os, re"
   ]
  },
  {
   "cell_type": "code",
   "execution_count": 17,
   "id": "d511775b-d2a6-4421-bac5-4d5bfcb3039c",
   "metadata": {},
   "outputs": [
    {
     "data": {
      "text/plain": [
       "['Sales_April_2019.csv',\n",
       " 'Sales_August_2019.csv',\n",
       " 'Sales_December_2019.csv',\n",
       " 'Sales_February_2019.csv',\n",
       " 'Sales_January_2019.csv',\n",
       " 'Sales_July_2019.csv',\n",
       " 'Sales_June_2019.csv',\n",
       " 'Sales_March_2019.csv',\n",
       " 'Sales_May_2019.csv',\n",
       " 'Sales_November_2019.csv',\n",
       " 'Sales_October_2019.csv',\n",
       " 'Sales_September_2019.csv']"
      ]
     },
     "execution_count": 17,
     "metadata": {},
     "output_type": "execute_result"
    }
   ],
   "source": [
    "os.listdir('./data/')"
   ]
  },
  {
   "cell_type": "code",
   "execution_count": 18,
   "id": "b43a61b8-0ff7-4c24-b881-c0cc4bbaaf2e",
   "metadata": {},
   "outputs": [],
   "source": [
    "df_jan = pd.read_csv('./data/Sales_January_2019.csv')\n",
    "df_feb = pd.read_csv('./data/Sales_February_2019.csv')\n",
    "df_mar = pd.read_csv('./data/Sales_March_2019.csv')\n",
    "df_apr = pd.read_csv('./data/Sales_April_2019.csv')\n",
    "df_may = pd.read_csv('./data/Sales_May_2019.csv')\n",
    "df_jun = pd.read_csv('./data/Sales_June_2019.csv')\n",
    "df_jul = pd.read_csv('./data/Sales_July_2019.csv')\n",
    "df_aug = pd.read_csv('./data/Sales_August_2019.csv')\n",
    "df_sep = pd.read_csv('./data/Sales_September_2019.csv')\n",
    "df_oct = pd.read_csv('./data/Sales_October_2019.csv')\n",
    "df_nov = pd.read_csv('./data/Sales_November_2019.csv')\n",
    "df_dec = pd.read_csv('./data/Sales_December_2019.csv')"
   ]
  },
  {
   "cell_type": "code",
   "execution_count": 19,
   "id": "504006e3-6aac-4913-901f-f52554955e90",
   "metadata": {},
   "outputs": [
    {
     "data": {
      "text/html": [
       "<div>\n",
       "<style scoped>\n",
       "    .dataframe tbody tr th:only-of-type {\n",
       "        vertical-align: middle;\n",
       "    }\n",
       "\n",
       "    .dataframe tbody tr th {\n",
       "        vertical-align: top;\n",
       "    }\n",
       "\n",
       "    .dataframe thead th {\n",
       "        text-align: right;\n",
       "    }\n",
       "</style>\n",
       "<table border=\"1\" class=\"dataframe\">\n",
       "  <thead>\n",
       "    <tr style=\"text-align: right;\">\n",
       "      <th></th>\n",
       "      <th>Order ID</th>\n",
       "      <th>Product</th>\n",
       "      <th>Quantity Ordered</th>\n",
       "      <th>Price Each</th>\n",
       "      <th>Order Date</th>\n",
       "      <th>Purchase Address</th>\n",
       "    </tr>\n",
       "  </thead>\n",
       "  <tbody>\n",
       "    <tr>\n",
       "      <th>0</th>\n",
       "      <td>141234</td>\n",
       "      <td>iPhone</td>\n",
       "      <td>1</td>\n",
       "      <td>700</td>\n",
       "      <td>01/22/19 21:25</td>\n",
       "      <td>944 Walnut St, Boston, MA 02215</td>\n",
       "    </tr>\n",
       "    <tr>\n",
       "      <th>1</th>\n",
       "      <td>141235</td>\n",
       "      <td>Lightning Charging Cable</td>\n",
       "      <td>1</td>\n",
       "      <td>14.95</td>\n",
       "      <td>01/28/19 14:15</td>\n",
       "      <td>185 Maple St, Portland, OR 97035</td>\n",
       "    </tr>\n",
       "    <tr>\n",
       "      <th>2</th>\n",
       "      <td>141236</td>\n",
       "      <td>Wired Headphones</td>\n",
       "      <td>2</td>\n",
       "      <td>11.99</td>\n",
       "      <td>01/17/19 13:33</td>\n",
       "      <td>538 Adams St, San Francisco, CA 94016</td>\n",
       "    </tr>\n",
       "    <tr>\n",
       "      <th>3</th>\n",
       "      <td>141237</td>\n",
       "      <td>27in FHD Monitor</td>\n",
       "      <td>1</td>\n",
       "      <td>149.99</td>\n",
       "      <td>01/05/19 20:33</td>\n",
       "      <td>738 10th St, Los Angeles, CA 90001</td>\n",
       "    </tr>\n",
       "    <tr>\n",
       "      <th>4</th>\n",
       "      <td>141238</td>\n",
       "      <td>Wired Headphones</td>\n",
       "      <td>1</td>\n",
       "      <td>11.99</td>\n",
       "      <td>01/25/19 11:59</td>\n",
       "      <td>387 10th St, Austin, TX 73301</td>\n",
       "    </tr>\n",
       "  </tbody>\n",
       "</table>\n",
       "</div>"
      ],
      "text/plain": [
       "  Order ID                   Product Quantity Ordered Price Each  \\\n",
       "0   141234                    iPhone                1        700   \n",
       "1   141235  Lightning Charging Cable                1      14.95   \n",
       "2   141236          Wired Headphones                2      11.99   \n",
       "3   141237          27in FHD Monitor                1     149.99   \n",
       "4   141238          Wired Headphones                1      11.99   \n",
       "\n",
       "       Order Date                       Purchase Address  \n",
       "0  01/22/19 21:25        944 Walnut St, Boston, MA 02215  \n",
       "1  01/28/19 14:15       185 Maple St, Portland, OR 97035  \n",
       "2  01/17/19 13:33  538 Adams St, San Francisco, CA 94016  \n",
       "3  01/05/19 20:33     738 10th St, Los Angeles, CA 90001  \n",
       "4  01/25/19 11:59          387 10th St, Austin, TX 73301  "
      ]
     },
     "execution_count": 19,
     "metadata": {},
     "output_type": "execute_result"
    }
   ],
   "source": [
    "df_jan.head()"
   ]
  },
  {
   "cell_type": "code",
   "execution_count": 20,
   "id": "257122c6-d890-4be1-bee3-db9d530bef21",
   "metadata": {},
   "outputs": [
    {
     "name": "stdout",
     "output_type": "stream",
     "text": [
      "<class 'pandas.core.frame.DataFrame'>\n",
      "RangeIndex: 9723 entries, 0 to 9722\n",
      "Data columns (total 6 columns):\n",
      " #   Column            Non-Null Count  Dtype \n",
      "---  ------            --------------  ----- \n",
      " 0   Order ID          9697 non-null   object\n",
      " 1   Product           9697 non-null   object\n",
      " 2   Quantity Ordered  9697 non-null   object\n",
      " 3   Price Each        9697 non-null   object\n",
      " 4   Order Date        9697 non-null   object\n",
      " 5   Purchase Address  9697 non-null   object\n",
      "dtypes: object(6)\n",
      "memory usage: 455.9+ KB\n"
     ]
    }
   ],
   "source": [
    "df_jan.info()"
   ]
  },
  {
   "cell_type": "code",
   "execution_count": 21,
   "id": "3750a376-ce53-44ae-af49-cb74e6817db3",
   "metadata": {},
   "outputs": [
    {
     "name": "stdout",
     "output_type": "stream",
     "text": [
      "Jan: (9723, 6)\n",
      "Feb: (12036, 6)\n",
      "Mar: (15226, 6)\n",
      "Apr: (18383, 6)\n",
      "May: (16635, 6)\n",
      "Jun: (13622, 6)\n",
      "Jul: (14371, 6)\n",
      "Aug: (12011, 6)\n",
      "Sep: (11686, 6)\n",
      "Oct: (20379, 6)\n",
      "Nov: (17661, 6)\n",
      "Dec: (25117, 6)\n"
     ]
    }
   ],
   "source": [
    "print(f\"Jan: {df_jan.shape}\")\n",
    "print(f\"Feb: {df_feb.shape}\")\n",
    "print(f\"Mar: {df_mar.shape}\")\n",
    "print(f\"Apr: {df_apr.shape}\")\n",
    "print(f\"May: {df_may.shape}\")\n",
    "print(f\"Jun: {df_jun.shape}\")\n",
    "print(f\"Jul: {df_jul.shape}\")\n",
    "print(f\"Aug: {df_aug.shape}\")\n",
    "print(f\"Sep: {df_sep.shape}\")\n",
    "print(f\"Oct: {df_oct.shape}\")\n",
    "print(f\"Nov: {df_nov.shape}\")\n",
    "print(f\"Dec: {df_dec.shape}\")"
   ]
  },
  {
   "cell_type": "code",
   "execution_count": 22,
   "id": "b23f9a40-c4ba-4ffe-8150-0520f67d901b",
   "metadata": {},
   "outputs": [
    {
     "data": {
      "text/html": [
       "<div>\n",
       "<style scoped>\n",
       "    .dataframe tbody tr th:only-of-type {\n",
       "        vertical-align: middle;\n",
       "    }\n",
       "\n",
       "    .dataframe tbody tr th {\n",
       "        vertical-align: top;\n",
       "    }\n",
       "\n",
       "    .dataframe thead th {\n",
       "        text-align: right;\n",
       "    }\n",
       "</style>\n",
       "<table border=\"1\" class=\"dataframe\">\n",
       "  <thead>\n",
       "    <tr style=\"text-align: right;\">\n",
       "      <th></th>\n",
       "      <th>Order ID</th>\n",
       "      <th>Product</th>\n",
       "      <th>Quantity Ordered</th>\n",
       "      <th>Price Each</th>\n",
       "      <th>Order Date</th>\n",
       "      <th>Purchase Address</th>\n",
       "    </tr>\n",
       "  </thead>\n",
       "  <tbody>\n",
       "    <tr>\n",
       "      <th>0</th>\n",
       "      <td>176558</td>\n",
       "      <td>USB-C Charging Cable</td>\n",
       "      <td>2</td>\n",
       "      <td>11.95</td>\n",
       "      <td>04/19/19 08:46</td>\n",
       "      <td>917 1st St, Dallas, TX 75001</td>\n",
       "    </tr>\n",
       "    <tr>\n",
       "      <th>1</th>\n",
       "      <td>NaN</td>\n",
       "      <td>NaN</td>\n",
       "      <td>NaN</td>\n",
       "      <td>NaN</td>\n",
       "      <td>NaN</td>\n",
       "      <td>NaN</td>\n",
       "    </tr>\n",
       "    <tr>\n",
       "      <th>2</th>\n",
       "      <td>176559</td>\n",
       "      <td>Bose SoundSport Headphones</td>\n",
       "      <td>1</td>\n",
       "      <td>99.99</td>\n",
       "      <td>04/07/19 22:30</td>\n",
       "      <td>682 Chestnut St, Boston, MA 02215</td>\n",
       "    </tr>\n",
       "    <tr>\n",
       "      <th>3</th>\n",
       "      <td>176560</td>\n",
       "      <td>Google Phone</td>\n",
       "      <td>1</td>\n",
       "      <td>600</td>\n",
       "      <td>04/12/19 14:38</td>\n",
       "      <td>669 Spruce St, Los Angeles, CA 90001</td>\n",
       "    </tr>\n",
       "    <tr>\n",
       "      <th>4</th>\n",
       "      <td>176560</td>\n",
       "      <td>Wired Headphones</td>\n",
       "      <td>1</td>\n",
       "      <td>11.99</td>\n",
       "      <td>04/12/19 14:38</td>\n",
       "      <td>669 Spruce St, Los Angeles, CA 90001</td>\n",
       "    </tr>\n",
       "  </tbody>\n",
       "</table>\n",
       "</div>"
      ],
      "text/plain": [
       "  Order ID                     Product Quantity Ordered Price Each  \\\n",
       "0   176558        USB-C Charging Cable                2      11.95   \n",
       "1      NaN                         NaN              NaN        NaN   \n",
       "2   176559  Bose SoundSport Headphones                1      99.99   \n",
       "3   176560                Google Phone                1        600   \n",
       "4   176560            Wired Headphones                1      11.99   \n",
       "\n",
       "       Order Date                      Purchase Address  \n",
       "0  04/19/19 08:46          917 1st St, Dallas, TX 75001  \n",
       "1             NaN                                   NaN  \n",
       "2  04/07/19 22:30     682 Chestnut St, Boston, MA 02215  \n",
       "3  04/12/19 14:38  669 Spruce St, Los Angeles, CA 90001  \n",
       "4  04/12/19 14:38  669 Spruce St, Los Angeles, CA 90001  "
      ]
     },
     "execution_count": 22,
     "metadata": {},
     "output_type": "execute_result"
    }
   ],
   "source": [
    "df_all = pd.DataFrame()\n",
    "\n",
    "for file in os.listdir('./data/'):\n",
    "    df_temp = pd.read_csv('./data/'+file)\n",
    "    df_all = pd.concat([df_all, df_temp])\n",
    "    \n",
    "df_all.head()"
   ]
  },
  {
   "cell_type": "code",
   "execution_count": 23,
   "id": "0ab48db6-0e92-4a1a-940a-668f92d08e83",
   "metadata": {},
   "outputs": [],
   "source": [
    "# copy\n",
    "df_all_clean = df_all.copy()"
   ]
  },
  {
   "cell_type": "code",
   "execution_count": 24,
   "id": "68e3c1a9-369f-4d5b-95d8-94415b79ea3e",
   "metadata": {},
   "outputs": [
    {
     "data": {
      "text/plain": [
       "Order ID  Product  Quantity Ordered  Price Each  Order Date  Purchase Address\n",
       "False     False    False             False       False       False               186305\n",
       "True      True     True              True        True        True                   545\n",
       "Name: count, dtype: int64"
      ]
     },
     "execution_count": 24,
     "metadata": {},
     "output_type": "execute_result"
    }
   ],
   "source": [
    "df_all_clean.isna().value_counts()"
   ]
  },
  {
   "cell_type": "code",
   "execution_count": 25,
   "id": "51a5b9a2-0077-484e-a596-f7260181bea5",
   "metadata": {},
   "outputs": [],
   "source": [
    "df_all_clean.dropna(inplace=True)"
   ]
  },
  {
   "cell_type": "code",
   "execution_count": 26,
   "id": "258d1b78-49a4-4752-be93-9e9c209fb425",
   "metadata": {},
   "outputs": [
    {
     "data": {
      "text/plain": [
       "(186305, 6)"
      ]
     },
     "execution_count": 26,
     "metadata": {},
     "output_type": "execute_result"
    }
   ],
   "source": [
    "df_all_clean.shape"
   ]
  },
  {
   "cell_type": "code",
   "execution_count": 27,
   "id": "ae673e16-68cd-4b8a-8fbf-ddee76a25468",
   "metadata": {},
   "outputs": [
    {
     "data": {
      "text/plain": [
       "Order ID  Product  Quantity Ordered  Price Each  Order Date  Purchase Address\n",
       "False     False    False             False       False       False               186305\n",
       "Name: count, dtype: int64"
      ]
     },
     "execution_count": 27,
     "metadata": {},
     "output_type": "execute_result"
    }
   ],
   "source": [
    "df_all_clean.isna().value_counts()"
   ]
  },
  {
   "cell_type": "code",
   "execution_count": 28,
   "id": "a1f8bbb6-1e4c-4743-bc79-4cc3bdada1ce",
   "metadata": {},
   "outputs": [],
   "source": [
    "df_all_clean.rename(columns=lambda x: x.lower().replace(' ','_'), inplace=True)"
   ]
  },
  {
   "cell_type": "code",
   "execution_count": 29,
   "id": "c65803d8-c4a2-4ee5-85f1-c1955bddbdbc",
   "metadata": {},
   "outputs": [
    {
     "name": "stdout",
     "output_type": "stream",
     "text": [
      "order_id\n",
      "product\n",
      "quantity_ordered\n",
      "price_each\n",
      "order_date\n",
      "purchase_address\n"
     ]
    }
   ],
   "source": [
    "for column in df_all_clean.columns:\n",
    "    print(column) "
   ]
  },
  {
   "cell_type": "code",
   "execution_count": 30,
   "id": "0fa1c2d2-0850-443e-bb52-2ee11053c1d0",
   "metadata": {},
   "outputs": [
    {
     "name": "stdout",
     "output_type": "stream",
     "text": [
      "<class 'pandas.core.frame.DataFrame'>\n",
      "Index: 186305 entries, 0 to 11685\n",
      "Data columns (total 6 columns):\n",
      " #   Column            Non-Null Count   Dtype \n",
      "---  ------            --------------   ----- \n",
      " 0   order_id          186305 non-null  object\n",
      " 1   product           186305 non-null  object\n",
      " 2   quantity_ordered  186305 non-null  object\n",
      " 3   price_each        186305 non-null  object\n",
      " 4   order_date        186305 non-null  object\n",
      " 5   purchase_address  186305 non-null  object\n",
      "dtypes: object(6)\n",
      "memory usage: 9.9+ MB\n"
     ]
    }
   ],
   "source": [
    "df_all_clean.info()"
   ]
  },
  {
   "cell_type": "code",
   "execution_count": 31,
   "id": "2b81a300-5e1d-4591-97d5-85b1e6f8a939",
   "metadata": {},
   "outputs": [
    {
     "data": {
      "text/plain": [
       "quantity_ordered\n",
       "1                   168552\n",
       "2                    13324\n",
       "3                     2920\n",
       "4                      806\n",
       "Quantity Ordered       355\n",
       "5                      236\n",
       "6                       80\n",
       "7                       24\n",
       "8                        5\n",
       "9                        3\n",
       "Name: count, dtype: int64"
      ]
     },
     "execution_count": 31,
     "metadata": {},
     "output_type": "execute_result"
    }
   ],
   "source": [
    "df_all_clean.quantity_ordered.value_counts()"
   ]
  },
  {
   "cell_type": "code",
   "execution_count": 32,
   "id": "0f1e205a-ec86-4a52-9288-0f7d62efab44",
   "metadata": {},
   "outputs": [
    {
     "data": {
      "text/html": [
       "<div>\n",
       "<style scoped>\n",
       "    .dataframe tbody tr th:only-of-type {\n",
       "        vertical-align: middle;\n",
       "    }\n",
       "\n",
       "    .dataframe tbody tr th {\n",
       "        vertical-align: top;\n",
       "    }\n",
       "\n",
       "    .dataframe thead th {\n",
       "        text-align: right;\n",
       "    }\n",
       "</style>\n",
       "<table border=\"1\" class=\"dataframe\">\n",
       "  <thead>\n",
       "    <tr style=\"text-align: right;\">\n",
       "      <th></th>\n",
       "      <th>order_id</th>\n",
       "      <th>product</th>\n",
       "      <th>quantity_ordered</th>\n",
       "      <th>price_each</th>\n",
       "      <th>order_date</th>\n",
       "      <th>purchase_address</th>\n",
       "    </tr>\n",
       "  </thead>\n",
       "  <tbody>\n",
       "    <tr>\n",
       "      <th>519</th>\n",
       "      <td>Order ID</td>\n",
       "      <td>Product</td>\n",
       "      <td>Quantity Ordered</td>\n",
       "      <td>Price Each</td>\n",
       "      <td>Order Date</td>\n",
       "      <td>Purchase Address</td>\n",
       "    </tr>\n",
       "    <tr>\n",
       "      <th>1149</th>\n",
       "      <td>Order ID</td>\n",
       "      <td>Product</td>\n",
       "      <td>Quantity Ordered</td>\n",
       "      <td>Price Each</td>\n",
       "      <td>Order Date</td>\n",
       "      <td>Purchase Address</td>\n",
       "    </tr>\n",
       "    <tr>\n",
       "      <th>1155</th>\n",
       "      <td>Order ID</td>\n",
       "      <td>Product</td>\n",
       "      <td>Quantity Ordered</td>\n",
       "      <td>Price Each</td>\n",
       "      <td>Order Date</td>\n",
       "      <td>Purchase Address</td>\n",
       "    </tr>\n",
       "    <tr>\n",
       "      <th>2878</th>\n",
       "      <td>Order ID</td>\n",
       "      <td>Product</td>\n",
       "      <td>Quantity Ordered</td>\n",
       "      <td>Price Each</td>\n",
       "      <td>Order Date</td>\n",
       "      <td>Purchase Address</td>\n",
       "    </tr>\n",
       "    <tr>\n",
       "      <th>2893</th>\n",
       "      <td>Order ID</td>\n",
       "      <td>Product</td>\n",
       "      <td>Quantity Ordered</td>\n",
       "      <td>Price Each</td>\n",
       "      <td>Order Date</td>\n",
       "      <td>Purchase Address</td>\n",
       "    </tr>\n",
       "    <tr>\n",
       "      <th>...</th>\n",
       "      <td>...</td>\n",
       "      <td>...</td>\n",
       "      <td>...</td>\n",
       "      <td>...</td>\n",
       "      <td>...</td>\n",
       "      <td>...</td>\n",
       "    </tr>\n",
       "    <tr>\n",
       "      <th>10000</th>\n",
       "      <td>Order ID</td>\n",
       "      <td>Product</td>\n",
       "      <td>Quantity Ordered</td>\n",
       "      <td>Price Each</td>\n",
       "      <td>Order Date</td>\n",
       "      <td>Purchase Address</td>\n",
       "    </tr>\n",
       "    <tr>\n",
       "      <th>10387</th>\n",
       "      <td>Order ID</td>\n",
       "      <td>Product</td>\n",
       "      <td>Quantity Ordered</td>\n",
       "      <td>Price Each</td>\n",
       "      <td>Order Date</td>\n",
       "      <td>Purchase Address</td>\n",
       "    </tr>\n",
       "    <tr>\n",
       "      <th>11399</th>\n",
       "      <td>Order ID</td>\n",
       "      <td>Product</td>\n",
       "      <td>Quantity Ordered</td>\n",
       "      <td>Price Each</td>\n",
       "      <td>Order Date</td>\n",
       "      <td>Purchase Address</td>\n",
       "    </tr>\n",
       "    <tr>\n",
       "      <th>11468</th>\n",
       "      <td>Order ID</td>\n",
       "      <td>Product</td>\n",
       "      <td>Quantity Ordered</td>\n",
       "      <td>Price Each</td>\n",
       "      <td>Order Date</td>\n",
       "      <td>Purchase Address</td>\n",
       "    </tr>\n",
       "    <tr>\n",
       "      <th>11574</th>\n",
       "      <td>Order ID</td>\n",
       "      <td>Product</td>\n",
       "      <td>Quantity Ordered</td>\n",
       "      <td>Price Each</td>\n",
       "      <td>Order Date</td>\n",
       "      <td>Purchase Address</td>\n",
       "    </tr>\n",
       "  </tbody>\n",
       "</table>\n",
       "<p>355 rows × 6 columns</p>\n",
       "</div>"
      ],
      "text/plain": [
       "       order_id  product  quantity_ordered  price_each  order_date  \\\n",
       "519    Order ID  Product  Quantity Ordered  Price Each  Order Date   \n",
       "1149   Order ID  Product  Quantity Ordered  Price Each  Order Date   \n",
       "1155   Order ID  Product  Quantity Ordered  Price Each  Order Date   \n",
       "2878   Order ID  Product  Quantity Ordered  Price Each  Order Date   \n",
       "2893   Order ID  Product  Quantity Ordered  Price Each  Order Date   \n",
       "...         ...      ...               ...         ...         ...   \n",
       "10000  Order ID  Product  Quantity Ordered  Price Each  Order Date   \n",
       "10387  Order ID  Product  Quantity Ordered  Price Each  Order Date   \n",
       "11399  Order ID  Product  Quantity Ordered  Price Each  Order Date   \n",
       "11468  Order ID  Product  Quantity Ordered  Price Each  Order Date   \n",
       "11574  Order ID  Product  Quantity Ordered  Price Each  Order Date   \n",
       "\n",
       "       purchase_address  \n",
       "519    Purchase Address  \n",
       "1149   Purchase Address  \n",
       "1155   Purchase Address  \n",
       "2878   Purchase Address  \n",
       "2893   Purchase Address  \n",
       "...                 ...  \n",
       "10000  Purchase Address  \n",
       "10387  Purchase Address  \n",
       "11399  Purchase Address  \n",
       "11468  Purchase Address  \n",
       "11574  Purchase Address  \n",
       "\n",
       "[355 rows x 6 columns]"
      ]
     },
     "execution_count": 32,
     "metadata": {},
     "output_type": "execute_result"
    }
   ],
   "source": [
    "df_all_clean.query('quantity_ordered == \"Quantity Ordered\"')"
   ]
  },
  {
   "cell_type": "code",
   "execution_count": 33,
   "id": "539e6ba9-096e-43f6-a66f-f84624053b8b",
   "metadata": {},
   "outputs": [],
   "source": [
    "df_all_clean.drop(df_all_clean.index[df_all_clean.quantity_ordered == \"Quantity Ordered\"], inplace = True)"
   ]
  },
  {
   "cell_type": "code",
   "execution_count": 34,
   "id": "0c657c6f-0530-436f-b1ec-15f08893b66b",
   "metadata": {},
   "outputs": [
    {
     "data": {
      "text/html": [
       "<div>\n",
       "<style scoped>\n",
       "    .dataframe tbody tr th:only-of-type {\n",
       "        vertical-align: middle;\n",
       "    }\n",
       "\n",
       "    .dataframe tbody tr th {\n",
       "        vertical-align: top;\n",
       "    }\n",
       "\n",
       "    .dataframe thead th {\n",
       "        text-align: right;\n",
       "    }\n",
       "</style>\n",
       "<table border=\"1\" class=\"dataframe\">\n",
       "  <thead>\n",
       "    <tr style=\"text-align: right;\">\n",
       "      <th></th>\n",
       "      <th>order_id</th>\n",
       "      <th>product</th>\n",
       "      <th>quantity_ordered</th>\n",
       "      <th>price_each</th>\n",
       "      <th>order_date</th>\n",
       "      <th>purchase_address</th>\n",
       "    </tr>\n",
       "  </thead>\n",
       "  <tbody>\n",
       "  </tbody>\n",
       "</table>\n",
       "</div>"
      ],
      "text/plain": [
       "Empty DataFrame\n",
       "Columns: [order_id, product, quantity_ordered, price_each, order_date, purchase_address]\n",
       "Index: []"
      ]
     },
     "execution_count": 34,
     "metadata": {},
     "output_type": "execute_result"
    }
   ],
   "source": [
    "df_all_clean.query('quantity_ordered == \"Quantity Ordered\"')"
   ]
  },
  {
   "cell_type": "code",
   "execution_count": 35,
   "id": "3689f81c-a77d-41d6-b8d9-9e53b3cfa2c8",
   "metadata": {},
   "outputs": [],
   "source": [
    "df_all_clean.quantity_ordered = df_all_clean.quantity_ordered.astype(int)\n",
    "df_all_clean.price_each = df_all_clean.price_each.astype(float)"
   ]
  },
  {
   "cell_type": "code",
   "execution_count": 39,
   "id": "579efc8c-b75b-4842-8542-bf28940a05e2",
   "metadata": {},
   "outputs": [],
   "source": [
    "df_all_clean.order_date = pd.to_datetime(df_all_clean.order_date)"
   ]
  },
  {
   "cell_type": "code",
   "execution_count": 40,
   "id": "20894f31-74cc-4e89-95e2-4742b2b830b1",
   "metadata": {},
   "outputs": [
    {
     "name": "stdout",
     "output_type": "stream",
     "text": [
      "<class 'pandas.core.frame.DataFrame'>\n",
      "Index: 182735 entries, 0 to 11685\n",
      "Data columns (total 7 columns):\n",
      " #   Column            Non-Null Count   Dtype         \n",
      "---  ------            --------------   -----         \n",
      " 0   order_id          182735 non-null  object        \n",
      " 1   product           182735 non-null  object        \n",
      " 2   quantity_ordered  182735 non-null  int32         \n",
      " 3   price_each        182735 non-null  float64       \n",
      " 4   order_date        182735 non-null  datetime64[ns]\n",
      " 5   purchase_address  182735 non-null  object        \n",
      " 6   month             182735 non-null  object        \n",
      "dtypes: datetime64[ns](1), float64(1), int32(1), object(4)\n",
      "memory usage: 10.5+ MB\n"
     ]
    }
   ],
   "source": [
    "df_all_clean.info()"
   ]
  },
  {
   "cell_type": "code",
   "execution_count": 41,
   "id": "410710e2-afbf-456c-8521-3192d57e44d6",
   "metadata": {},
   "outputs": [],
   "source": [
    "df_all_clean['month'] = df_all_clean.order_date.dt.month_name()"
   ]
  },
  {
   "cell_type": "code",
   "execution_count": 42,
   "id": "86a658b7-836c-4f3c-b79a-a28af09966bc",
   "metadata": {},
   "outputs": [
    {
     "data": {
      "text/html": [
       "<div>\n",
       "<style scoped>\n",
       "    .dataframe tbody tr th:only-of-type {\n",
       "        vertical-align: middle;\n",
       "    }\n",
       "\n",
       "    .dataframe tbody tr th {\n",
       "        vertical-align: top;\n",
       "    }\n",
       "\n",
       "    .dataframe thead th {\n",
       "        text-align: right;\n",
       "    }\n",
       "</style>\n",
       "<table border=\"1\" class=\"dataframe\">\n",
       "  <thead>\n",
       "    <tr style=\"text-align: right;\">\n",
       "      <th></th>\n",
       "      <th>order_id</th>\n",
       "      <th>product</th>\n",
       "      <th>quantity_ordered</th>\n",
       "      <th>price_each</th>\n",
       "      <th>order_date</th>\n",
       "      <th>purchase_address</th>\n",
       "      <th>month</th>\n",
       "    </tr>\n",
       "  </thead>\n",
       "  <tbody>\n",
       "    <tr>\n",
       "      <th>0</th>\n",
       "      <td>176558</td>\n",
       "      <td>USB-C Charging Cable</td>\n",
       "      <td>2</td>\n",
       "      <td>11.95</td>\n",
       "      <td>2019-04-19 08:46:00</td>\n",
       "      <td>917 1st St, Dallas, TX 75001</td>\n",
       "      <td>April</td>\n",
       "    </tr>\n",
       "    <tr>\n",
       "      <th>2</th>\n",
       "      <td>176559</td>\n",
       "      <td>Bose SoundSport Headphones</td>\n",
       "      <td>1</td>\n",
       "      <td>99.99</td>\n",
       "      <td>2019-04-07 22:30:00</td>\n",
       "      <td>682 Chestnut St, Boston, MA 02215</td>\n",
       "      <td>April</td>\n",
       "    </tr>\n",
       "    <tr>\n",
       "      <th>3</th>\n",
       "      <td>176560</td>\n",
       "      <td>Google Phone</td>\n",
       "      <td>1</td>\n",
       "      <td>600.00</td>\n",
       "      <td>2019-04-12 14:38:00</td>\n",
       "      <td>669 Spruce St, Los Angeles, CA 90001</td>\n",
       "      <td>April</td>\n",
       "    </tr>\n",
       "    <tr>\n",
       "      <th>4</th>\n",
       "      <td>176560</td>\n",
       "      <td>Wired Headphones</td>\n",
       "      <td>1</td>\n",
       "      <td>11.99</td>\n",
       "      <td>2019-04-12 14:38:00</td>\n",
       "      <td>669 Spruce St, Los Angeles, CA 90001</td>\n",
       "      <td>April</td>\n",
       "    </tr>\n",
       "    <tr>\n",
       "      <th>5</th>\n",
       "      <td>176561</td>\n",
       "      <td>Wired Headphones</td>\n",
       "      <td>1</td>\n",
       "      <td>11.99</td>\n",
       "      <td>2019-04-30 09:27:00</td>\n",
       "      <td>333 8th St, Los Angeles, CA 90001</td>\n",
       "      <td>April</td>\n",
       "    </tr>\n",
       "  </tbody>\n",
       "</table>\n",
       "</div>"
      ],
      "text/plain": [
       "  order_id                     product  quantity_ordered  price_each  \\\n",
       "0   176558        USB-C Charging Cable                 2       11.95   \n",
       "2   176559  Bose SoundSport Headphones                 1       99.99   \n",
       "3   176560                Google Phone                 1      600.00   \n",
       "4   176560            Wired Headphones                 1       11.99   \n",
       "5   176561            Wired Headphones                 1       11.99   \n",
       "\n",
       "           order_date                      purchase_address  month  \n",
       "0 2019-04-19 08:46:00          917 1st St, Dallas, TX 75001  April  \n",
       "2 2019-04-07 22:30:00     682 Chestnut St, Boston, MA 02215  April  \n",
       "3 2019-04-12 14:38:00  669 Spruce St, Los Angeles, CA 90001  April  \n",
       "4 2019-04-12 14:38:00  669 Spruce St, Los Angeles, CA 90001  April  \n",
       "5 2019-04-30 09:27:00     333 8th St, Los Angeles, CA 90001  April  "
      ]
     },
     "execution_count": 42,
     "metadata": {},
     "output_type": "execute_result"
    }
   ],
   "source": [
    "df_all_clean.head()"
   ]
  },
  {
   "cell_type": "code",
   "execution_count": 43,
   "id": "a169d55f-72d3-44e3-9183-658d4aa89066",
   "metadata": {},
   "outputs": [],
   "source": [
    "df_all_clean['total_sales'] = df_all_clean.quantity_ordered * df_all_clean.price_each"
   ]
  },
  {
   "cell_type": "code",
   "execution_count": 44,
   "id": "30e26ef4-fbd6-47b8-8f85-c9d375f12179",
   "metadata": {},
   "outputs": [
    {
     "data": {
      "text/html": [
       "<div>\n",
       "<style scoped>\n",
       "    .dataframe tbody tr th:only-of-type {\n",
       "        vertical-align: middle;\n",
       "    }\n",
       "\n",
       "    .dataframe tbody tr th {\n",
       "        vertical-align: top;\n",
       "    }\n",
       "\n",
       "    .dataframe thead th {\n",
       "        text-align: right;\n",
       "    }\n",
       "</style>\n",
       "<table border=\"1\" class=\"dataframe\">\n",
       "  <thead>\n",
       "    <tr style=\"text-align: right;\">\n",
       "      <th></th>\n",
       "      <th>order_id</th>\n",
       "      <th>product</th>\n",
       "      <th>quantity_ordered</th>\n",
       "      <th>price_each</th>\n",
       "      <th>order_date</th>\n",
       "      <th>purchase_address</th>\n",
       "      <th>month</th>\n",
       "      <th>total_sales</th>\n",
       "    </tr>\n",
       "  </thead>\n",
       "  <tbody>\n",
       "    <tr>\n",
       "      <th>11290</th>\n",
       "      <td>172793</td>\n",
       "      <td>27in 4K Gaming Monitor</td>\n",
       "      <td>1</td>\n",
       "      <td>389.99</td>\n",
       "      <td>2019-03-09 20:13:00</td>\n",
       "      <td>732 Lake St, Seattle, WA 98101</td>\n",
       "      <td>March</td>\n",
       "      <td>389.99</td>\n",
       "    </tr>\n",
       "    <tr>\n",
       "      <th>18161</th>\n",
       "      <td>193885</td>\n",
       "      <td>Macbook Pro Laptop</td>\n",
       "      <td>1</td>\n",
       "      <td>1700.00</td>\n",
       "      <td>2019-04-16 08:47:00</td>\n",
       "      <td>837 6th St, Austin, TX 73301</td>\n",
       "      <td>April</td>\n",
       "      <td>1700.00</td>\n",
       "    </tr>\n",
       "    <tr>\n",
       "      <th>3717</th>\n",
       "      <td>165545</td>\n",
       "      <td>AA Batteries (4-pack)</td>\n",
       "      <td>1</td>\n",
       "      <td>3.84</td>\n",
       "      <td>2019-03-23 13:15:00</td>\n",
       "      <td>612 Adams St, Austin, TX 73301</td>\n",
       "      <td>March</td>\n",
       "      <td>3.84</td>\n",
       "    </tr>\n",
       "    <tr>\n",
       "      <th>15846</th>\n",
       "      <td>209182</td>\n",
       "      <td>AAA Batteries (4-pack)</td>\n",
       "      <td>1</td>\n",
       "      <td>2.99</td>\n",
       "      <td>2019-05-07 12:30:00</td>\n",
       "      <td>499 River St, Los Angeles, CA 90001</td>\n",
       "      <td>May</td>\n",
       "      <td>2.99</td>\n",
       "    </tr>\n",
       "    <tr>\n",
       "      <th>3460</th>\n",
       "      <td>239995</td>\n",
       "      <td>Apple Airpods Headphones</td>\n",
       "      <td>1</td>\n",
       "      <td>150.00</td>\n",
       "      <td>2019-08-25 06:55:00</td>\n",
       "      <td>200 Sunset St, Seattle, WA 98101</td>\n",
       "      <td>August</td>\n",
       "      <td>150.00</td>\n",
       "    </tr>\n",
       "  </tbody>\n",
       "</table>\n",
       "</div>"
      ],
      "text/plain": [
       "      order_id                   product  quantity_ordered  price_each  \\\n",
       "11290   172793    27in 4K Gaming Monitor                 1      389.99   \n",
       "18161   193885        Macbook Pro Laptop                 1     1700.00   \n",
       "3717    165545     AA Batteries (4-pack)                 1        3.84   \n",
       "15846   209182    AAA Batteries (4-pack)                 1        2.99   \n",
       "3460    239995  Apple Airpods Headphones                 1      150.00   \n",
       "\n",
       "               order_date                     purchase_address   month  \\\n",
       "11290 2019-03-09 20:13:00       732 Lake St, Seattle, WA 98101   March   \n",
       "18161 2019-04-16 08:47:00         837 6th St, Austin, TX 73301   April   \n",
       "3717  2019-03-23 13:15:00       612 Adams St, Austin, TX 73301   March   \n",
       "15846 2019-05-07 12:30:00  499 River St, Los Angeles, CA 90001     May   \n",
       "3460  2019-08-25 06:55:00     200 Sunset St, Seattle, WA 98101  August   \n",
       "\n",
       "       total_sales  \n",
       "11290       389.99  \n",
       "18161      1700.00  \n",
       "3717          3.84  \n",
       "15846         2.99  \n",
       "3460        150.00  "
      ]
     },
     "execution_count": 44,
     "metadata": {},
     "output_type": "execute_result"
    }
   ],
   "source": [
    "df_all_clean.sample(5)"
   ]
  },
  {
   "cell_type": "code",
   "execution_count": 45,
   "id": "fe2c025e-4fa9-45f3-bc09-26d201bcf49a",
   "metadata": {},
   "outputs": [],
   "source": [
    "df_all_clean.drop('purchase_address', axis=1, inplace=True)"
   ]
  },
  {
   "cell_type": "code",
   "execution_count": 46,
   "id": "e7f78757-6185-45c1-9cc3-4cc500bd04a0",
   "metadata": {},
   "outputs": [],
   "source": [
    "total_quantity_sold = df_all_clean.groupby('product')['quantity_ordered'].sum().reset_index()\n",
    "total_quantity_sold.rename(columns={'quantity_ordered': 'total_quantity_sold_all_months'}, inplace=True)"
   ]
  },
  {
   "cell_type": "code",
   "execution_count": 47,
   "id": "1851a6ed-98e4-493c-84b3-3cd881ec629f",
   "metadata": {},
   "outputs": [],
   "source": [
    "df_all_clean = pd.merge(df_all_clean, total_quantity_sold, on='product', how='left')"
   ]
  },
  {
   "cell_type": "code",
   "execution_count": 48,
   "id": "57a8d537-5a95-4cb9-b90b-5b0a63aa32cd",
   "metadata": {},
   "outputs": [
    {
     "data": {
      "text/html": [
       "<div>\n",
       "<style scoped>\n",
       "    .dataframe tbody tr th:only-of-type {\n",
       "        vertical-align: middle;\n",
       "    }\n",
       "\n",
       "    .dataframe tbody tr th {\n",
       "        vertical-align: top;\n",
       "    }\n",
       "\n",
       "    .dataframe thead th {\n",
       "        text-align: right;\n",
       "    }\n",
       "</style>\n",
       "<table border=\"1\" class=\"dataframe\">\n",
       "  <thead>\n",
       "    <tr style=\"text-align: right;\">\n",
       "      <th></th>\n",
       "      <th>order_id</th>\n",
       "      <th>product</th>\n",
       "      <th>quantity_ordered</th>\n",
       "      <th>price_each</th>\n",
       "      <th>order_date</th>\n",
       "      <th>month</th>\n",
       "      <th>total_sales</th>\n",
       "      <th>total_quantity_sold_all_months</th>\n",
       "    </tr>\n",
       "  </thead>\n",
       "  <tbody>\n",
       "    <tr>\n",
       "      <th>104605</th>\n",
       "      <td>163641</td>\n",
       "      <td>ThinkPad Laptop</td>\n",
       "      <td>1</td>\n",
       "      <td>999.99</td>\n",
       "      <td>2019-03-07 12:14:00</td>\n",
       "      <td>March</td>\n",
       "      <td>999.99</td>\n",
       "      <td>4054</td>\n",
       "    </tr>\n",
       "    <tr>\n",
       "      <th>55532</th>\n",
       "      <td>151613</td>\n",
       "      <td>AA Batteries (4-pack)</td>\n",
       "      <td>1</td>\n",
       "      <td>3.84</td>\n",
       "      <td>2019-02-13 20:28:00</td>\n",
       "      <td>February</td>\n",
       "      <td>3.84</td>\n",
       "      <td>27148</td>\n",
       "    </tr>\n",
       "    <tr>\n",
       "      <th>110119</th>\n",
       "      <td>169054</td>\n",
       "      <td>Lightning Charging Cable</td>\n",
       "      <td>1</td>\n",
       "      <td>14.95</td>\n",
       "      <td>2019-03-18 17:16:00</td>\n",
       "      <td>March</td>\n",
       "      <td>14.95</td>\n",
       "      <td>22841</td>\n",
       "    </tr>\n",
       "    <tr>\n",
       "      <th>26214</th>\n",
       "      <td>244738</td>\n",
       "      <td>27in 4K Gaming Monitor</td>\n",
       "      <td>1</td>\n",
       "      <td>389.99</td>\n",
       "      <td>2019-08-08 13:04:00</td>\n",
       "      <td>August</td>\n",
       "      <td>389.99</td>\n",
       "      <td>6134</td>\n",
       "    </tr>\n",
       "    <tr>\n",
       "      <th>156356</th>\n",
       "      <td>264238</td>\n",
       "      <td>Lightning Charging Cable</td>\n",
       "      <td>1</td>\n",
       "      <td>14.95</td>\n",
       "      <td>2019-10-16 20:14:00</td>\n",
       "      <td>October</td>\n",
       "      <td>14.95</td>\n",
       "      <td>22841</td>\n",
       "    </tr>\n",
       "  </tbody>\n",
       "</table>\n",
       "</div>"
      ],
      "text/plain": [
       "       order_id                   product  quantity_ordered  price_each  \\\n",
       "104605   163641           ThinkPad Laptop                 1      999.99   \n",
       "55532    151613     AA Batteries (4-pack)                 1        3.84   \n",
       "110119   169054  Lightning Charging Cable                 1       14.95   \n",
       "26214    244738    27in 4K Gaming Monitor                 1      389.99   \n",
       "156356   264238  Lightning Charging Cable                 1       14.95   \n",
       "\n",
       "                order_date     month  total_sales  \\\n",
       "104605 2019-03-07 12:14:00     March       999.99   \n",
       "55532  2019-02-13 20:28:00  February         3.84   \n",
       "110119 2019-03-18 17:16:00     March        14.95   \n",
       "26214  2019-08-08 13:04:00    August       389.99   \n",
       "156356 2019-10-16 20:14:00   October        14.95   \n",
       "\n",
       "        total_quantity_sold_all_months  \n",
       "104605                            4054  \n",
       "55532                            27148  \n",
       "110119                           22841  \n",
       "26214                             6134  \n",
       "156356                           22841  "
      ]
     },
     "execution_count": 48,
     "metadata": {},
     "output_type": "execute_result"
    }
   ],
   "source": [
    "df_all_clean.sample(5)"
   ]
  },
  {
   "cell_type": "code",
   "execution_count": 49,
   "id": "7ff5e99e-97b6-443b-be82-2a71a3d6c61a",
   "metadata": {},
   "outputs": [],
   "source": [
    "df_all_clean.to_csv('./output/all_data.csv', index=False)"
   ]
  },
  {
   "cell_type": "code",
   "execution_count": 50,
   "id": "335a3948-1096-4a45-bb8e-54877ffddf56",
   "metadata": {},
   "outputs": [
    {
     "data": {
      "text/html": [
       "<div>\n",
       "<style scoped>\n",
       "    .dataframe tbody tr th:only-of-type {\n",
       "        vertical-align: middle;\n",
       "    }\n",
       "\n",
       "    .dataframe tbody tr th {\n",
       "        vertical-align: top;\n",
       "    }\n",
       "\n",
       "    .dataframe thead th {\n",
       "        text-align: right;\n",
       "    }\n",
       "</style>\n",
       "<table border=\"1\" class=\"dataframe\">\n",
       "  <thead>\n",
       "    <tr style=\"text-align: right;\">\n",
       "      <th></th>\n",
       "      <th>order_id</th>\n",
       "      <th>product</th>\n",
       "      <th>quantity_ordered</th>\n",
       "      <th>price_each</th>\n",
       "      <th>order_date</th>\n",
       "      <th>month</th>\n",
       "      <th>total_sales</th>\n",
       "      <th>total_quantity_sold_all_months</th>\n",
       "    </tr>\n",
       "  </thead>\n",
       "  <tbody>\n",
       "    <tr>\n",
       "      <th>0</th>\n",
       "      <td>176558</td>\n",
       "      <td>USB-C Charging Cable</td>\n",
       "      <td>2</td>\n",
       "      <td>11.95</td>\n",
       "      <td>2019-04-19 08:46:00</td>\n",
       "      <td>April</td>\n",
       "      <td>23.90</td>\n",
       "      <td>23555</td>\n",
       "    </tr>\n",
       "    <tr>\n",
       "      <th>1</th>\n",
       "      <td>176559</td>\n",
       "      <td>Bose SoundSport Headphones</td>\n",
       "      <td>1</td>\n",
       "      <td>99.99</td>\n",
       "      <td>2019-04-07 22:30:00</td>\n",
       "      <td>April</td>\n",
       "      <td>99.99</td>\n",
       "      <td>13236</td>\n",
       "    </tr>\n",
       "    <tr>\n",
       "      <th>2</th>\n",
       "      <td>176560</td>\n",
       "      <td>Google Phone</td>\n",
       "      <td>1</td>\n",
       "      <td>600.00</td>\n",
       "      <td>2019-04-12 14:38:00</td>\n",
       "      <td>April</td>\n",
       "      <td>600.00</td>\n",
       "      <td>5440</td>\n",
       "    </tr>\n",
       "    <tr>\n",
       "      <th>3</th>\n",
       "      <td>176560</td>\n",
       "      <td>Wired Headphones</td>\n",
       "      <td>1</td>\n",
       "      <td>11.99</td>\n",
       "      <td>2019-04-12 14:38:00</td>\n",
       "      <td>April</td>\n",
       "      <td>11.99</td>\n",
       "      <td>20201</td>\n",
       "    </tr>\n",
       "    <tr>\n",
       "      <th>4</th>\n",
       "      <td>176561</td>\n",
       "      <td>Wired Headphones</td>\n",
       "      <td>1</td>\n",
       "      <td>11.99</td>\n",
       "      <td>2019-04-30 09:27:00</td>\n",
       "      <td>April</td>\n",
       "      <td>11.99</td>\n",
       "      <td>20201</td>\n",
       "    </tr>\n",
       "  </tbody>\n",
       "</table>\n",
       "</div>"
      ],
      "text/plain": [
       "   order_id                     product  quantity_ordered  price_each  \\\n",
       "0    176558        USB-C Charging Cable                 2       11.95   \n",
       "1    176559  Bose SoundSport Headphones                 1       99.99   \n",
       "2    176560                Google Phone                 1      600.00   \n",
       "3    176560            Wired Headphones                 1       11.99   \n",
       "4    176561            Wired Headphones                 1       11.99   \n",
       "\n",
       "            order_date  month  total_sales  total_quantity_sold_all_months  \n",
       "0  2019-04-19 08:46:00  April        23.90                           23555  \n",
       "1  2019-04-07 22:30:00  April        99.99                           13236  \n",
       "2  2019-04-12 14:38:00  April       600.00                            5440  \n",
       "3  2019-04-12 14:38:00  April        11.99                           20201  \n",
       "4  2019-04-30 09:27:00  April        11.99                           20201  "
      ]
     },
     "execution_count": 50,
     "metadata": {},
     "output_type": "execute_result"
    }
   ],
   "source": [
    "df = pd.read_csv('./output/all_data.csv')\n",
    "df.head()"
   ]
  },
  {
   "cell_type": "code",
   "execution_count": null,
   "id": "ef0c8281-a5bb-46b4-9ddf-69a41d89a17c",
   "metadata": {},
   "outputs": [],
   "source": []
  }
 ],
 "metadata": {
  "kernelspec": {
   "display_name": "Python 3 (ipykernel)",
   "language": "python",
   "name": "python3"
  },
  "language_info": {
   "codemirror_mode": {
    "name": "ipython",
    "version": 3
   },
   "file_extension": ".py",
   "mimetype": "text/x-python",
   "name": "python",
   "nbconvert_exporter": "python",
   "pygments_lexer": "ipython3",
   "version": "3.11.5"
  }
 },
 "nbformat": 4,
 "nbformat_minor": 5
}
